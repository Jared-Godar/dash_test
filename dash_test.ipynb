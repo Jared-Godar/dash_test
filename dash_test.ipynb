{
 "cells": [
  {
   "cell_type": "markdown",
   "metadata": {},
   "source": [
    "# Building your first dashboard in Python\n",
    "[Reference](https://towardsdatascience.com/plotly-dashboards-in-python-28a3bb83702c)\n",
    "\n",
    "Use Plotly and Dash to make Python-only Dashboards.     "
   ]
  },
  {
   "cell_type": "code",
   "execution_count": 1,
   "metadata": {},
   "outputs": [],
   "source": [
    "# !conda install -c conda-forge dash"
   ]
  },
  {
   "cell_type": "code",
   "execution_count": 2,
   "metadata": {},
   "outputs": [
    {
     "name": "stderr",
     "output_type": "stream",
     "text": [
      "/var/folders/9y/17ptyrds267724n2_7s7hx340000gn/T/ipykernel_24807/1585676892.py:2: UserWarning: \n",
      "The dash_core_components package is deprecated. Please replace\n",
      "`import dash_core_components as dcc` with `from dash import dcc`\n",
      "  import dash_core_components as dcc\n",
      "/var/folders/9y/17ptyrds267724n2_7s7hx340000gn/T/ipykernel_24807/1585676892.py:3: UserWarning: \n",
      "The dash_html_components package is deprecated. Please replace\n",
      "`import dash_html_components as html` with `from dash import html`\n",
      "  import dash_html_components as html\n"
     ]
    }
   ],
   "source": [
    "import dash\n",
    "import dash_core_components as dcc\n",
    "import dash_html_components as html\n",
    "import plotly.express as px\n",
    "import pandas as pd"
   ]
  },
  {
   "cell_type": "code",
   "execution_count": 4,
   "metadata": {},
   "outputs": [
    {
     "name": "stdout",
     "output_type": "stream",
     "text": [
      "Collecting jupyter-dash\n",
      "  Downloading jupyter_dash-0.4.1-py3-none-any.whl (17 kB)\n",
      "Requirement already satisfied: requests in /opt/homebrew/anaconda3/lib/python3.8/site-packages (from jupyter-dash) (2.26.0)\n",
      "Requirement already satisfied: ipykernel in /opt/homebrew/anaconda3/lib/python3.8/site-packages (from jupyter-dash) (6.6.0)\n",
      "Collecting ansi2html\n",
      "  Downloading ansi2html-1.7.0-py3-none-any.whl (15 kB)\n",
      "Requirement already satisfied: dash in /opt/homebrew/anaconda3/lib/python3.8/site-packages (from jupyter-dash) (2.0.0)\n",
      "Requirement already satisfied: ipython in /opt/homebrew/anaconda3/lib/python3.8/site-packages (from jupyter-dash) (7.30.1)\n",
      "Requirement already satisfied: retrying in /opt/homebrew/anaconda3/lib/python3.8/site-packages (from jupyter-dash) (1.3.3)\n",
      "Requirement already satisfied: flask in /opt/homebrew/anaconda3/lib/python3.8/site-packages (from jupyter-dash) (2.0.2)\n",
      "Requirement already satisfied: dash-html-components==2.0.0 in /opt/homebrew/anaconda3/lib/python3.8/site-packages (from dash->jupyter-dash) (2.0.0)\n",
      "Requirement already satisfied: plotly>=5.0.0 in /opt/homebrew/anaconda3/lib/python3.8/site-packages (from dash->jupyter-dash) (5.4.0)\n",
      "Requirement already satisfied: dash-core-components==2.0.0 in /opt/homebrew/anaconda3/lib/python3.8/site-packages (from dash->jupyter-dash) (2.0.0)\n",
      "Requirement already satisfied: flask-compress in /opt/homebrew/anaconda3/lib/python3.8/site-packages (from dash->jupyter-dash) (1.10.1)\n",
      "Requirement already satisfied: dash-table==5.0.0 in /opt/homebrew/anaconda3/lib/python3.8/site-packages (from dash->jupyter-dash) (5.0.0)\n",
      "Requirement already satisfied: Werkzeug>=2.0 in /opt/homebrew/anaconda3/lib/python3.8/site-packages (from flask->jupyter-dash) (2.0.2)\n",
      "Requirement already satisfied: click>=7.1.2 in /opt/homebrew/anaconda3/lib/python3.8/site-packages (from flask->jupyter-dash) (8.0.3)\n",
      "Requirement already satisfied: Jinja2>=3.0 in /opt/homebrew/anaconda3/lib/python3.8/site-packages (from flask->jupyter-dash) (3.0.3)\n",
      "Requirement already satisfied: itsdangerous>=2.0 in /opt/homebrew/anaconda3/lib/python3.8/site-packages (from flask->jupyter-dash) (2.0.1)\n",
      "Requirement already satisfied: tornado<7.0,>=4.2 in /opt/homebrew/anaconda3/lib/python3.8/site-packages (from ipykernel->jupyter-dash) (6.1)\n",
      "Requirement already satisfied: jupyter-client<8.0 in /opt/homebrew/anaconda3/lib/python3.8/site-packages (from ipykernel->jupyter-dash) (7.1.0)\n",
      "Requirement already satisfied: matplotlib-inline<0.2.0,>=0.1.0 in /opt/homebrew/anaconda3/lib/python3.8/site-packages (from ipykernel->jupyter-dash) (0.1.3)\n",
      "Requirement already satisfied: traitlets<6.0,>=5.1.0 in /opt/homebrew/anaconda3/lib/python3.8/site-packages (from ipykernel->jupyter-dash) (5.1.1)\n",
      "Requirement already satisfied: debugpy<2.0,>=1.0.0 in /opt/homebrew/anaconda3/lib/python3.8/site-packages (from ipykernel->jupyter-dash) (1.5.1)\n",
      "Requirement already satisfied: appnope in /opt/homebrew/anaconda3/lib/python3.8/site-packages (from ipykernel->jupyter-dash) (0.1.2)\n",
      "Requirement already satisfied: decorator in /opt/homebrew/anaconda3/lib/python3.8/site-packages (from ipython->jupyter-dash) (5.1.0)\n",
      "Requirement already satisfied: setuptools>=18.5 in /opt/homebrew/anaconda3/lib/python3.8/site-packages (from ipython->jupyter-dash) (59.6.0)\n",
      "Requirement already satisfied: pickleshare in /opt/homebrew/anaconda3/lib/python3.8/site-packages (from ipython->jupyter-dash) (0.7.5)\n",
      "Requirement already satisfied: prompt-toolkit!=3.0.0,!=3.0.1,<3.1.0,>=2.0.0 in /opt/homebrew/anaconda3/lib/python3.8/site-packages (from ipython->jupyter-dash) (3.0.24)\n",
      "Requirement already satisfied: pygments in /opt/homebrew/anaconda3/lib/python3.8/site-packages (from ipython->jupyter-dash) (2.10.0)\n",
      "Requirement already satisfied: backcall in /opt/homebrew/anaconda3/lib/python3.8/site-packages (from ipython->jupyter-dash) (0.2.0)\n",
      "Requirement already satisfied: pexpect>4.3 in /opt/homebrew/anaconda3/lib/python3.8/site-packages (from ipython->jupyter-dash) (4.8.0)\n",
      "Requirement already satisfied: jedi>=0.16 in /opt/homebrew/anaconda3/lib/python3.8/site-packages (from ipython->jupyter-dash) (0.18.1)\n",
      "Requirement already satisfied: idna<4,>=2.5 in /opt/homebrew/anaconda3/lib/python3.8/site-packages (from requests->jupyter-dash) (3.3)\n",
      "Requirement already satisfied: urllib3<1.27,>=1.21.1 in /opt/homebrew/anaconda3/lib/python3.8/site-packages (from requests->jupyter-dash) (1.26.7)\n",
      "Requirement already satisfied: certifi>=2017.4.17 in /opt/homebrew/anaconda3/lib/python3.8/site-packages (from requests->jupyter-dash) (2021.10.8)\n",
      "Requirement already satisfied: charset-normalizer~=2.0.0 in /opt/homebrew/anaconda3/lib/python3.8/site-packages (from requests->jupyter-dash) (2.0.9)\n",
      "Requirement already satisfied: six>=1.7.0 in /opt/homebrew/anaconda3/lib/python3.8/site-packages (from retrying->jupyter-dash) (1.15.0)\n",
      "Requirement already satisfied: parso<0.9.0,>=0.8.0 in /opt/homebrew/anaconda3/lib/python3.8/site-packages (from jedi>=0.16->ipython->jupyter-dash) (0.8.3)\n",
      "Requirement already satisfied: MarkupSafe>=2.0 in /opt/homebrew/anaconda3/lib/python3.8/site-packages (from Jinja2>=3.0->flask->jupyter-dash) (2.0.1)\n",
      "Requirement already satisfied: python-dateutil>=2.1 in /opt/homebrew/anaconda3/lib/python3.8/site-packages (from jupyter-client<8.0->ipykernel->jupyter-dash) (2.8.2)\n",
      "Requirement already satisfied: entrypoints in /opt/homebrew/anaconda3/lib/python3.8/site-packages (from jupyter-client<8.0->ipykernel->jupyter-dash) (0.3)\n",
      "Requirement already satisfied: pyzmq>=13 in /opt/homebrew/anaconda3/lib/python3.8/site-packages (from jupyter-client<8.0->ipykernel->jupyter-dash) (22.3.0)\n",
      "Requirement already satisfied: nest-asyncio>=1.5 in /opt/homebrew/anaconda3/lib/python3.8/site-packages (from jupyter-client<8.0->ipykernel->jupyter-dash) (1.5.4)\n",
      "Requirement already satisfied: jupyter-core>=4.6.0 in /opt/homebrew/anaconda3/lib/python3.8/site-packages (from jupyter-client<8.0->ipykernel->jupyter-dash) (4.9.1)\n",
      "Requirement already satisfied: ptyprocess>=0.5 in /opt/homebrew/anaconda3/lib/python3.8/site-packages (from pexpect>4.3->ipython->jupyter-dash) (0.7.0)\n",
      "Requirement already satisfied: tenacity>=6.2.0 in /opt/homebrew/anaconda3/lib/python3.8/site-packages (from plotly>=5.0.0->dash->jupyter-dash) (8.0.1)\n",
      "Requirement already satisfied: wcwidth in /opt/homebrew/anaconda3/lib/python3.8/site-packages (from prompt-toolkit!=3.0.0,!=3.0.1,<3.1.0,>=2.0.0->ipython->jupyter-dash) (0.2.5)\n",
      "Requirement already satisfied: brotli in /opt/homebrew/anaconda3/lib/python3.8/site-packages (from flask-compress->dash->jupyter-dash) (1.0.9)\n",
      "Installing collected packages: ansi2html, jupyter-dash\n",
      "Successfully installed ansi2html-1.7.0 jupyter-dash-0.4.1\n"
     ]
    }
   ],
   "source": [
    "!pip install jupyter-dash\n"
   ]
  },
  {
   "cell_type": "code",
   "execution_count": 5,
   "metadata": {},
   "outputs": [],
   "source": [
    "from jupyter_dash import JupyterDash"
   ]
  },
  {
   "cell_type": "code",
   "execution_count": 6,
   "metadata": {},
   "outputs": [],
   "source": [
    "app = dash.Dash()\n",
    "\n",
    "df = pd.read_csv(\n",
    "    \"https://raw.githubusercontent.com/ThuwarakeshM/geting-started-with-plottly-dash/main/life_expectancy.csv\"\n",
    ")\n",
    "\n",
    "fig = px.scatter(\n",
    "    df,\n",
    "    x=\"GDP\",\n",
    "    y=\"Life expectancy\",\n",
    "    size=\"Population\",\n",
    "    color=\"continent\",\n",
    "    hover_name=\"Country\",\n",
    "    log_x=True,\n",
    "    size_max=60,\n",
    ")\n",
    "\n",
    "app.layout = html.Div([dcc.Graph(id=\"life-exp-vs-gdp\", figure=fig)])\n"
   ]
  },
  {
   "cell_type": "code",
   "execution_count": null,
   "metadata": {},
   "outputs": [],
   "source": []
  }
 ],
 "metadata": {
  "interpreter": {
   "hash": "38cca0c38332a56087b24af0bc80247f4fced29cb4f7f437d91dc159adec9c4e"
  },
  "kernelspec": {
   "display_name": "Python 3.8.12 ('base')",
   "language": "python",
   "name": "python3"
  },
  "language_info": {
   "codemirror_mode": {
    "name": "ipython",
    "version": 3
   },
   "file_extension": ".py",
   "mimetype": "text/x-python",
   "name": "python",
   "nbconvert_exporter": "python",
   "pygments_lexer": "ipython3",
   "version": "3.8.12"
  },
  "orig_nbformat": 4
 },
 "nbformat": 4,
 "nbformat_minor": 2
}
